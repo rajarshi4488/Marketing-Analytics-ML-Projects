{
 "cells": [
  {
   "cell_type": "markdown",
   "id": "d296e61c",
   "metadata": {},
   "source": [
    "<b>Case Study</b>"
   ]
  },
  {
   "cell_type": "markdown",
   "id": "413ca22e",
   "metadata": {},
   "source": [
    " Online Retail II Data Set\n",
    "Download: Data Folder, Data Set Description\n",
    "\n",
    "\n",
    "Attribute Information:\n",
    "\n",
    "InvoiceNo: Invoice number. Nominal. A 6-digit integral number uniquely assigned to each transaction. If this code starts with the letter 'c', it indicates a cancellation.<br>\n",
    "StockCode: Product (item) code. Nominal. A 5-digit integral number uniquely assigned to each distinct product.<br>\n",
    "Description: Product (item) name. Nominal.<br>\n",
    "Quantity: The quantities of each product (item) per transaction. Numeric.<br>\n",
    "InvoiceDate: Invice date and time. Numeric. The day and time when a transaction was generated.<br>\n",
    "UnitPrice: Unit price. Numeric. Product price per unit in sterling (Â£).<br>\n",
    "CustomerID: Customer number. Nominal. A 5-digit integral number uniquely assigned to each customer.<br>\n",
    "Country: Country name. Nominal. The name of the country where a customer resides.<br>\n"
   ]
  },
  {
   "cell_type": "code",
   "execution_count": 50,
   "id": "e1fe23f9",
   "metadata": {},
   "outputs": [],
   "source": [
    "import pandas as pd\n",
    "import numpy as np\n",
    "\n",
    "import squarify\n",
    "import matplotlib.pyplot as plt\n",
    "import seaborn as sns\n",
    "plt.style.use('ggplot')\n",
    "from operator import attrgetter\n",
    "import matplotlib.colors as mcolors\n",
    "\n",
    "import warnings\n",
    "warnings.filterwarnings('ignore')"
   ]
  },
  {
   "cell_type": "code",
   "execution_count": 51,
   "id": "57a36ad7",
   "metadata": {},
   "outputs": [
    {
     "data": {
      "text/html": [
       "<div>\n",
       "<style scoped>\n",
       "    .dataframe tbody tr th:only-of-type {\n",
       "        vertical-align: middle;\n",
       "    }\n",
       "\n",
       "    .dataframe tbody tr th {\n",
       "        vertical-align: top;\n",
       "    }\n",
       "\n",
       "    .dataframe thead th {\n",
       "        text-align: right;\n",
       "    }\n",
       "</style>\n",
       "<table border=\"1\" class=\"dataframe\">\n",
       "  <thead>\n",
       "    <tr style=\"text-align: right;\">\n",
       "      <th></th>\n",
       "      <th>Invoice</th>\n",
       "      <th>StockCode</th>\n",
       "      <th>Description</th>\n",
       "      <th>Quantity</th>\n",
       "      <th>InvoiceDate</th>\n",
       "      <th>Price</th>\n",
       "      <th>Customer ID</th>\n",
       "      <th>Country</th>\n",
       "    </tr>\n",
       "  </thead>\n",
       "  <tbody>\n",
       "    <tr>\n",
       "      <th>0</th>\n",
       "      <td>489434</td>\n",
       "      <td>85048</td>\n",
       "      <td>15CM CHRISTMAS GLASS BALL 20 LIGHTS</td>\n",
       "      <td>12</td>\n",
       "      <td>2009-12-01 07:45:00</td>\n",
       "      <td>6.95</td>\n",
       "      <td>13085.0</td>\n",
       "      <td>United Kingdom</td>\n",
       "    </tr>\n",
       "    <tr>\n",
       "      <th>1</th>\n",
       "      <td>489434</td>\n",
       "      <td>79323P</td>\n",
       "      <td>PINK CHERRY LIGHTS</td>\n",
       "      <td>12</td>\n",
       "      <td>2009-12-01 07:45:00</td>\n",
       "      <td>6.75</td>\n",
       "      <td>13085.0</td>\n",
       "      <td>United Kingdom</td>\n",
       "    </tr>\n",
       "    <tr>\n",
       "      <th>2</th>\n",
       "      <td>489434</td>\n",
       "      <td>79323W</td>\n",
       "      <td>WHITE CHERRY LIGHTS</td>\n",
       "      <td>12</td>\n",
       "      <td>2009-12-01 07:45:00</td>\n",
       "      <td>6.75</td>\n",
       "      <td>13085.0</td>\n",
       "      <td>United Kingdom</td>\n",
       "    </tr>\n",
       "    <tr>\n",
       "      <th>3</th>\n",
       "      <td>489434</td>\n",
       "      <td>22041</td>\n",
       "      <td>RECORD FRAME 7\" SINGLE SIZE</td>\n",
       "      <td>48</td>\n",
       "      <td>2009-12-01 07:45:00</td>\n",
       "      <td>2.10</td>\n",
       "      <td>13085.0</td>\n",
       "      <td>United Kingdom</td>\n",
       "    </tr>\n",
       "    <tr>\n",
       "      <th>4</th>\n",
       "      <td>489434</td>\n",
       "      <td>21232</td>\n",
       "      <td>STRAWBERRY CERAMIC TRINKET BOX</td>\n",
       "      <td>24</td>\n",
       "      <td>2009-12-01 07:45:00</td>\n",
       "      <td>1.25</td>\n",
       "      <td>13085.0</td>\n",
       "      <td>United Kingdom</td>\n",
       "    </tr>\n",
       "  </tbody>\n",
       "</table>\n",
       "</div>"
      ],
      "text/plain": [
       "  Invoice StockCode                          Description  Quantity  \\\n",
       "0  489434     85048  15CM CHRISTMAS GLASS BALL 20 LIGHTS        12   \n",
       "1  489434    79323P                   PINK CHERRY LIGHTS        12   \n",
       "2  489434    79323W                  WHITE CHERRY LIGHTS        12   \n",
       "3  489434     22041         RECORD FRAME 7\" SINGLE SIZE         48   \n",
       "4  489434     21232       STRAWBERRY CERAMIC TRINKET BOX        24   \n",
       "\n",
       "          InvoiceDate  Price  Customer ID         Country  \n",
       "0 2009-12-01 07:45:00   6.95      13085.0  United Kingdom  \n",
       "1 2009-12-01 07:45:00   6.75      13085.0  United Kingdom  \n",
       "2 2009-12-01 07:45:00   6.75      13085.0  United Kingdom  \n",
       "3 2009-12-01 07:45:00   2.10      13085.0  United Kingdom  \n",
       "4 2009-12-01 07:45:00   1.25      13085.0  United Kingdom  "
      ]
     },
     "execution_count": 51,
     "metadata": {},
     "output_type": "execute_result"
    }
   ],
   "source": [
    "df = pd.read_excel('online_retail_II.xlsx',engine='openpyxl')\n",
    "df.head()"
   ]
  },
  {
   "cell_type": "code",
   "execution_count": 52,
   "id": "16990861",
   "metadata": {},
   "outputs": [],
   "source": [
    "df['InvoiceDate'] = pd.to_datetime(df['InvoiceDate'])\n",
    "df['Invoice'] = df['Invoice'].astype(str)\n",
    "df['Customer ID'] = df['Customer ID'].astype(str)\n",
    "df['StockCode'] = df['StockCode'].astype(str)"
   ]
  },
  {
   "cell_type": "markdown",
   "id": "920d1320",
   "metadata": {},
   "source": [
    "<b>Missing Values</b>"
   ]
  },
  {
   "cell_type": "code",
   "execution_count": 53,
   "id": "7fe8928d",
   "metadata": {},
   "outputs": [
    {
     "data": {
      "text/plain": [
       "Invoice           0\n",
       "StockCode         0\n",
       "Description    2928\n",
       "Quantity          0\n",
       "InvoiceDate       0\n",
       "Price             0\n",
       "Customer ID       0\n",
       "Country           0\n",
       "dtype: int64"
      ]
     },
     "execution_count": 53,
     "metadata": {},
     "output_type": "execute_result"
    }
   ],
   "source": [
    "df.isna().sum()"
   ]
  },
  {
   "cell_type": "code",
   "execution_count": 54,
   "id": "8f18eb00",
   "metadata": {},
   "outputs": [],
   "source": [
    "df['Description'].fillna(\" \",inplace=True)"
   ]
  },
  {
   "cell_type": "code",
   "execution_count": 55,
   "id": "7c7c5ad3",
   "metadata": {},
   "outputs": [
    {
     "data": {
      "text/plain": [
       "Invoice        0\n",
       "StockCode      0\n",
       "Description    0\n",
       "Quantity       0\n",
       "InvoiceDate    0\n",
       "Price          0\n",
       "Customer ID    0\n",
       "Country        0\n",
       "dtype: int64"
      ]
     },
     "execution_count": 55,
     "metadata": {},
     "output_type": "execute_result"
    }
   ],
   "source": [
    "df.isna().sum()"
   ]
  },
  {
   "cell_type": "markdown",
   "id": "5722f639",
   "metadata": {},
   "source": [
    "##EDA##"
   ]
  },
  {
   "cell_type": "code",
   "execution_count": null,
   "id": "b7defdd3",
   "metadata": {},
   "outputs": [],
   "source": [
    "df.describe().transpose()"
   ]
  },
  {
   "cell_type": "markdown",
   "id": "bf7a637c",
   "metadata": {},
   "source": [
    "<b>Cohort Calc</b>"
   ]
  },
  {
   "cell_type": "code",
   "execution_count": 58,
   "id": "f3b526fa",
   "metadata": {},
   "outputs": [
    {
     "name": "stdout",
     "output_type": "stream",
     "text": [
      "71.10% of customers ordered more than once.\n"
     ]
    }
   ],
   "source": [
    "n_orders = df.groupby(['Customer ID'])['Invoice'].nunique()\n",
    "mult_orders_perc = np.sum(n_orders > 1) / df['Customer ID'].nunique()\n",
    "print(f'{100 * mult_orders_perc:.2f}% of customers ordered more than once.')"
   ]
  },
  {
   "cell_type": "code",
   "execution_count": 60,
   "id": "3c6059a1",
   "metadata": {},
   "outputs": [
    {
     "ename": "AttributeError",
     "evalue": "'numpy.ndarray' object has no attribute 'set'",
     "output_type": "error",
     "traceback": [
      "\u001b[1;31m---------------------------------------------------------------------------\u001b[0m",
      "\u001b[1;31mAttributeError\u001b[0m                            Traceback (most recent call last)",
      "\u001b[1;32m~\\AppData\\Local\\Temp\\ipykernel_18700\\657789030.py\u001b[0m in \u001b[0;36m<module>\u001b[1;34m\u001b[0m\n\u001b[0;32m      1\u001b[0m \u001b[0msns\u001b[0m\u001b[1;33m.\u001b[0m\u001b[0mdistplot\u001b[0m\u001b[1;33m(\u001b[0m\u001b[0mn_orders\u001b[0m\u001b[1;33m,\u001b[0m \u001b[0mkde\u001b[0m\u001b[1;33m=\u001b[0m\u001b[1;32mFalse\u001b[0m\u001b[1;33m,\u001b[0m \u001b[0mhist\u001b[0m\u001b[1;33m=\u001b[0m\u001b[1;32mTrue\u001b[0m\u001b[1;33m)\u001b[0m\u001b[1;33m\u001b[0m\u001b[0m\n\u001b[1;32m----> 2\u001b[1;33m ax.set(title='Distribution of number of orders per customer',\n\u001b[0m\u001b[0;32m      3\u001b[0m        \u001b[0mxlabel\u001b[0m\u001b[1;33m=\u001b[0m\u001b[1;34m'# of orders'\u001b[0m\u001b[1;33m,\u001b[0m\u001b[1;33m\u001b[0m\u001b[0m\n\u001b[0;32m      4\u001b[0m        ylabel='# of customers');\n",
      "\u001b[1;31mAttributeError\u001b[0m: 'numpy.ndarray' object has no attribute 'set'"
     ]
    },
    {
     "data": {
      "image/png": "[encoded data removed]",
      "text/plain": [
       "<Figure size 432x288 with 1 Axes>"
      ]
     },
     "metadata": {},
     "output_type": "display_data"
    }
   ],
   "source": [
    "sns.distplot(n_orders, kde=False, hist=True)\n",
    "ax.set(title='Distribution of number of orders per customer',\n",
    "       xlabel='# of orders', \n",
    "       ylabel='# of customers');"
   ]
  },
  {
   "cell_type": "code",
   "execution_count": 61,
   "id": "27786f90",
   "metadata": {},
   "outputs": [],
   "source": [
    "df = df[['Customer ID', 'Invoice', 'InvoiceDate']].drop_duplicates()"
   ]
  },
  {
   "cell_type": "code",
   "execution_count": 62,
   "id": "00ddc3c2",
   "metadata": {},
   "outputs": [],
   "source": [
    "df['order_month'] = df['InvoiceDate'].dt.to_period('M')"
   ]
  },
  {
   "cell_type": "code",
   "execution_count": 63,
   "id": "0a90374c",
   "metadata": {},
   "outputs": [
    {
     "data": {
      "text/html": [
       "<div>\n",
       "<style scoped>\n",
       "    .dataframe tbody tr th:only-of-type {\n",
       "        vertical-align: middle;\n",
       "    }\n",
       "\n",
       "    .dataframe tbody tr th {\n",
       "        vertical-align: top;\n",
       "    }\n",
       "\n",
       "    .dataframe thead th {\n",
       "        text-align: right;\n",
       "    }\n",
       "</style>\n",
       "<table border=\"1\" class=\"dataframe\">\n",
       "  <thead>\n",
       "    <tr style=\"text-align: right;\">\n",
       "      <th></th>\n",
       "      <th>Customer ID</th>\n",
       "      <th>Invoice</th>\n",
       "      <th>InvoiceDate</th>\n",
       "      <th>order_month</th>\n",
       "    </tr>\n",
       "  </thead>\n",
       "  <tbody>\n",
       "    <tr>\n",
       "      <th>0</th>\n",
       "      <td>13085.0</td>\n",
       "      <td>489434</td>\n",
       "      <td>2009-12-01 07:45:00</td>\n",
       "      <td>2009-12</td>\n",
       "    </tr>\n",
       "    <tr>\n",
       "      <th>8</th>\n",
       "      <td>13085.0</td>\n",
       "      <td>489435</td>\n",
       "      <td>2009-12-01 07:46:00</td>\n",
       "      <td>2009-12</td>\n",
       "    </tr>\n",
       "  </tbody>\n",
       "</table>\n",
       "</div>"
      ],
      "text/plain": [
       "  Customer ID Invoice         InvoiceDate order_month\n",
       "0     13085.0  489434 2009-12-01 07:45:00     2009-12\n",
       "8     13085.0  489435 2009-12-01 07:46:00     2009-12"
      ]
     },
     "execution_count": 63,
     "metadata": {},
     "output_type": "execute_result"
    }
   ],
   "source": [
    "df.head(2)"
   ]
  },
  {
   "cell_type": "code",
   "execution_count": 64,
   "id": "45140601",
   "metadata": {},
   "outputs": [
    {
     "data": {
      "text/html": [
       "<div>\n",
       "<style scoped>\n",
       "    .dataframe tbody tr th:only-of-type {\n",
       "        vertical-align: middle;\n",
       "    }\n",
       "\n",
       "    .dataframe tbody tr th {\n",
       "        vertical-align: top;\n",
       "    }\n",
       "\n",
       "    .dataframe thead th {\n",
       "        text-align: right;\n",
       "    }\n",
       "</style>\n",
       "<table border=\"1\" class=\"dataframe\">\n",
       "  <thead>\n",
       "    <tr style=\"text-align: right;\">\n",
       "      <th></th>\n",
       "      <th>Customer ID</th>\n",
       "      <th>Invoice</th>\n",
       "      <th>InvoiceDate</th>\n",
       "      <th>order_month</th>\n",
       "      <th>cohort</th>\n",
       "    </tr>\n",
       "  </thead>\n",
       "  <tbody>\n",
       "    <tr>\n",
       "      <th>0</th>\n",
       "      <td>13085.0</td>\n",
       "      <td>489434</td>\n",
       "      <td>2009-12-01 07:45:00</td>\n",
       "      <td>2009-12</td>\n",
       "      <td>2009-12</td>\n",
       "    </tr>\n",
       "    <tr>\n",
       "      <th>8</th>\n",
       "      <td>13085.0</td>\n",
       "      <td>489435</td>\n",
       "      <td>2009-12-01 07:46:00</td>\n",
       "      <td>2009-12</td>\n",
       "      <td>2009-12</td>\n",
       "    </tr>\n",
       "  </tbody>\n",
       "</table>\n",
       "</div>"
      ],
      "text/plain": [
       "  Customer ID Invoice         InvoiceDate order_month   cohort\n",
       "0     13085.0  489434 2009-12-01 07:45:00     2009-12  2009-12\n",
       "8     13085.0  489435 2009-12-01 07:46:00     2009-12  2009-12"
      ]
     },
     "execution_count": 64,
     "metadata": {},
     "output_type": "execute_result"
    }
   ],
   "source": [
    "df['cohort'] = df.groupby('Customer ID')['InvoiceDate'].transform('min').dt.to_period('M')\n",
    "df.head(2)"
   ]
  },
  {
   "cell_type": "code",
   "execution_count": 65,
   "id": "a25c8899",
   "metadata": {},
   "outputs": [
    {
     "data": {
      "text/html": [
       "<div>\n",
       "<style scoped>\n",
       "    .dataframe tbody tr th:only-of-type {\n",
       "        vertical-align: middle;\n",
       "    }\n",
       "\n",
       "    .dataframe tbody tr th {\n",
       "        vertical-align: top;\n",
       "    }\n",
       "\n",
       "    .dataframe thead th {\n",
       "        text-align: right;\n",
       "    }\n",
       "</style>\n",
       "<table border=\"1\" class=\"dataframe\">\n",
       "  <thead>\n",
       "    <tr style=\"text-align: right;\">\n",
       "      <th></th>\n",
       "      <th>Customer ID</th>\n",
       "      <th>Invoice</th>\n",
       "      <th>InvoiceDate</th>\n",
       "      <th>order_month</th>\n",
       "      <th>cohort</th>\n",
       "    </tr>\n",
       "  </thead>\n",
       "  <tbody>\n",
       "    <tr>\n",
       "      <th>525371</th>\n",
       "      <td>13969.0</td>\n",
       "      <td>538170</td>\n",
       "      <td>2010-12-09 19:32:00</td>\n",
       "      <td>2010-12</td>\n",
       "      <td>2010-03</td>\n",
       "    </tr>\n",
       "    <tr>\n",
       "      <th>525396</th>\n",
       "      <td>17530.0</td>\n",
       "      <td>538171</td>\n",
       "      <td>2010-12-09 20:01:00</td>\n",
       "      <td>2010-12</td>\n",
       "      <td>2009-12</td>\n",
       "    </tr>\n",
       "  </tbody>\n",
       "</table>\n",
       "</div>"
      ],
      "text/plain": [
       "       Customer ID Invoice         InvoiceDate order_month   cohort\n",
       "525371     13969.0  538170 2010-12-09 19:32:00     2010-12  2010-03\n",
       "525396     17530.0  538171 2010-12-09 20:01:00     2010-12  2009-12"
      ]
     },
     "execution_count": 65,
     "metadata": {},
     "output_type": "execute_result"
    }
   ],
   "source": [
    "df.tail(2)"
   ]
  },
  {
   "cell_type": "code",
   "execution_count": 66,
   "id": "1462958b",
   "metadata": {},
   "outputs": [
    {
     "data": {
      "text/html": [
       "<div>\n",
       "<style scoped>\n",
       "    .dataframe tbody tr th:only-of-type {\n",
       "        vertical-align: middle;\n",
       "    }\n",
       "\n",
       "    .dataframe tbody tr th {\n",
       "        vertical-align: top;\n",
       "    }\n",
       "\n",
       "    .dataframe thead th {\n",
       "        text-align: right;\n",
       "    }\n",
       "</style>\n",
       "<table border=\"1\" class=\"dataframe\">\n",
       "  <thead>\n",
       "    <tr style=\"text-align: right;\">\n",
       "      <th></th>\n",
       "      <th>cohort</th>\n",
       "      <th>order_month</th>\n",
       "      <th>n_customers</th>\n",
       "      <th>period_number</th>\n",
       "    </tr>\n",
       "  </thead>\n",
       "  <tbody>\n",
       "    <tr>\n",
       "      <th>0</th>\n",
       "      <td>2009-12</td>\n",
       "      <td>2009-12</td>\n",
       "      <td>1046</td>\n",
       "      <td>0</td>\n",
       "    </tr>\n",
       "    <tr>\n",
       "      <th>1</th>\n",
       "      <td>2009-12</td>\n",
       "      <td>2010-01</td>\n",
       "      <td>393</td>\n",
       "      <td>1</td>\n",
       "    </tr>\n",
       "  </tbody>\n",
       "</table>\n",
       "</div>"
      ],
      "text/plain": [
       "    cohort order_month  n_customers  period_number\n",
       "0  2009-12     2009-12         1046              0\n",
       "1  2009-12     2010-01          393              1"
      ]
     },
     "execution_count": 66,
     "metadata": {},
     "output_type": "execute_result"
    }
   ],
   "source": [
    "df_cohort = df.groupby(['cohort', 'order_month']) \\\n",
    "              .agg(n_customers=('Customer ID', 'nunique')) \\\n",
    "              .reset_index(drop=False)\n",
    "df_cohort['period_number'] = (df_cohort.order_month - df_cohort.cohort).apply(attrgetter('n'))\n",
    "df_cohort.head(2)"
   ]
  },
  {
   "cell_type": "code",
   "execution_count": 67,
   "id": "c95f4ed4",
   "metadata": {},
   "outputs": [
    {
     "data": {
      "text/html": [
       "<div>\n",
       "<style scoped>\n",
       "    .dataframe tbody tr th:only-of-type {\n",
       "        vertical-align: middle;\n",
       "    }\n",
       "\n",
       "    .dataframe tbody tr th {\n",
       "        vertical-align: top;\n",
       "    }\n",
       "\n",
       "    .dataframe thead th {\n",
       "        text-align: right;\n",
       "    }\n",
       "</style>\n",
       "<table border=\"1\" class=\"dataframe\">\n",
       "  <thead>\n",
       "    <tr style=\"text-align: right;\">\n",
       "      <th>period_number</th>\n",
       "      <th>0</th>\n",
       "      <th>1</th>\n",
       "      <th>2</th>\n",
       "      <th>3</th>\n",
       "      <th>4</th>\n",
       "      <th>5</th>\n",
       "      <th>6</th>\n",
       "      <th>7</th>\n",
       "      <th>8</th>\n",
       "      <th>9</th>\n",
       "      <th>10</th>\n",
       "      <th>11</th>\n",
       "      <th>12</th>\n",
       "    </tr>\n",
       "    <tr>\n",
       "      <th>cohort</th>\n",
       "      <th></th>\n",
       "      <th></th>\n",
       "      <th></th>\n",
       "      <th></th>\n",
       "      <th></th>\n",
       "      <th></th>\n",
       "      <th></th>\n",
       "      <th></th>\n",
       "      <th></th>\n",
       "      <th></th>\n",
       "      <th></th>\n",
       "      <th></th>\n",
       "      <th></th>\n",
       "    </tr>\n",
       "  </thead>\n",
       "  <tbody>\n",
       "    <tr>\n",
       "      <th>2009-12</th>\n",
       "      <td>1046.0</td>\n",
       "      <td>393.0</td>\n",
       "      <td>359.0</td>\n",
       "      <td>448.0</td>\n",
       "      <td>411.0</td>\n",
       "      <td>409.0</td>\n",
       "      <td>409.0</td>\n",
       "      <td>375.0</td>\n",
       "      <td>356.0</td>\n",
       "      <td>393.0</td>\n",
       "      <td>453.0</td>\n",
       "      <td>519.0</td>\n",
       "      <td>261.0</td>\n",
       "    </tr>\n",
       "    <tr>\n",
       "      <th>2010-01</th>\n",
       "      <td>394.0</td>\n",
       "      <td>86.0</td>\n",
       "      <td>119.0</td>\n",
       "      <td>120.0</td>\n",
       "      <td>110.0</td>\n",
       "      <td>115.0</td>\n",
       "      <td>105.0</td>\n",
       "      <td>91.0</td>\n",
       "      <td>114.0</td>\n",
       "      <td>134.0</td>\n",
       "      <td>122.0</td>\n",
       "      <td>37.0</td>\n",
       "      <td>NaN</td>\n",
       "    </tr>\n",
       "  </tbody>\n",
       "</table>\n",
       "</div>"
      ],
      "text/plain": [
       "period_number      0      1      2      3      4      5      6      7      8   \\\n",
       "cohort                                                                          \n",
       "2009-12        1046.0  393.0  359.0  448.0  411.0  409.0  409.0  375.0  356.0   \n",
       "2010-01         394.0   86.0  119.0  120.0  110.0  115.0  105.0   91.0  114.0   \n",
       "\n",
       "period_number     9      10     11     12  \n",
       "cohort                                     \n",
       "2009-12        393.0  453.0  519.0  261.0  \n",
       "2010-01        134.0  122.0   37.0    NaN  "
      ]
     },
     "execution_count": 67,
     "metadata": {},
     "output_type": "execute_result"
    }
   ],
   "source": [
    "cohort_pivot = df_cohort.pivot_table(index = 'cohort',\n",
    "                                     columns = 'period_number',\n",
    "                                     values = 'n_customers')\n",
    "cohort_pivot.head(2)"
   ]
  },
  {
   "cell_type": "code",
   "execution_count": 68,
   "id": "c64aa386",
   "metadata": {},
   "outputs": [
    {
     "data": {
      "text/html": [
       "<div>\n",
       "<style scoped>\n",
       "    .dataframe tbody tr th:only-of-type {\n",
       "        vertical-align: middle;\n",
       "    }\n",
       "\n",
       "    .dataframe tbody tr th {\n",
       "        vertical-align: top;\n",
       "    }\n",
       "\n",
       "    .dataframe thead th {\n",
       "        text-align: right;\n",
       "    }\n",
       "</style>\n",
       "<table border=\"1\" class=\"dataframe\">\n",
       "  <thead>\n",
       "    <tr style=\"text-align: right;\">\n",
       "      <th>period_number</th>\n",
       "      <th>0</th>\n",
       "      <th>1</th>\n",
       "      <th>2</th>\n",
       "      <th>3</th>\n",
       "      <th>4</th>\n",
       "      <th>5</th>\n",
       "      <th>6</th>\n",
       "      <th>7</th>\n",
       "      <th>8</th>\n",
       "      <th>9</th>\n",
       "      <th>10</th>\n",
       "      <th>11</th>\n",
       "      <th>12</th>\n",
       "    </tr>\n",
       "    <tr>\n",
       "      <th>cohort</th>\n",
       "      <th></th>\n",
       "      <th></th>\n",
       "      <th></th>\n",
       "      <th></th>\n",
       "      <th></th>\n",
       "      <th></th>\n",
       "      <th></th>\n",
       "      <th></th>\n",
       "      <th></th>\n",
       "      <th></th>\n",
       "      <th></th>\n",
       "      <th></th>\n",
       "      <th></th>\n",
       "    </tr>\n",
       "  </thead>\n",
       "  <tbody>\n",
       "    <tr>\n",
       "      <th>2009-12</th>\n",
       "      <td>1.0</td>\n",
       "      <td>0.375717</td>\n",
       "      <td>0.343212</td>\n",
       "      <td>0.428298</td>\n",
       "      <td>0.392925</td>\n",
       "      <td>0.391013</td>\n",
       "      <td>0.391013</td>\n",
       "      <td>0.358509</td>\n",
       "      <td>0.340344</td>\n",
       "      <td>0.375717</td>\n",
       "      <td>0.433078</td>\n",
       "      <td>0.496176</td>\n",
       "      <td>0.249522</td>\n",
       "    </tr>\n",
       "    <tr>\n",
       "      <th>2010-01</th>\n",
       "      <td>1.0</td>\n",
       "      <td>0.218274</td>\n",
       "      <td>0.302030</td>\n",
       "      <td>0.304569</td>\n",
       "      <td>0.279188</td>\n",
       "      <td>0.291878</td>\n",
       "      <td>0.266497</td>\n",
       "      <td>0.230964</td>\n",
       "      <td>0.289340</td>\n",
       "      <td>0.340102</td>\n",
       "      <td>0.309645</td>\n",
       "      <td>0.093909</td>\n",
       "      <td>NaN</td>\n",
       "    </tr>\n",
       "  </tbody>\n",
       "</table>\n",
       "</div>"
      ],
      "text/plain": [
       "period_number   0         1         2         3         4         5   \\\n",
       "cohort                                                                 \n",
       "2009-12        1.0  0.375717  0.343212  0.428298  0.392925  0.391013   \n",
       "2010-01        1.0  0.218274  0.302030  0.304569  0.279188  0.291878   \n",
       "\n",
       "period_number        6         7         8         9         10        11  \\\n",
       "cohort                                                                      \n",
       "2009-12        0.391013  0.358509  0.340344  0.375717  0.433078  0.496176   \n",
       "2010-01        0.266497  0.230964  0.289340  0.340102  0.309645  0.093909   \n",
       "\n",
       "period_number        12  \n",
       "cohort                   \n",
       "2009-12        0.249522  \n",
       "2010-01             NaN  "
      ]
     },
     "execution_count": 68,
     "metadata": {},
     "output_type": "execute_result"
    }
   ],
   "source": [
    "cohort_size = cohort_pivot.iloc[:,0]\n",
    "retention_matrix = cohort_pivot.divide(cohort_size, axis = 0)\n",
    "retention_matrix.head(2)"
   ]
  },
  {
   "cell_type": "code",
   "execution_count": 69,
   "id": "a8063d9d",
   "metadata": {},
   "outputs": [
    {
     "data": {
      "image/png": "[encoded data removed]",
      "text/plain": [
       "<Figure size 864x576 with 3 Axes>"
      ]
     },
     "metadata": {},
     "output_type": "display_data"
    }
   ],
   "source": [
    "with sns.axes_style(\"white\"):\n",
    "    fig, ax = plt.subplots(1, 2, figsize=(12, 8), sharey=True, gridspec_kw={'width_ratios': [1, 11]})\n",
    "    \n",
    "    # retention matrix\n",
    "    sns.heatmap(retention_matrix, \n",
    "                mask=retention_matrix.isnull(), \n",
    "                annot=True, \n",
    "                fmt='.0%', \n",
    "                cmap='RdYlGn', \n",
    "                ax=ax[1])\n",
    "    ax[1].set_title('Monthly Cohorts: User Retention', fontsize=16)\n",
    "    ax[1].set(xlabel='# of periods',\n",
    "              ylabel='')\n",
    "\n",
    "    # cohort size\n",
    "    cohort_size_df = pd.DataFrame(cohort_size).rename(columns={0: 'cohort_size'})\n",
    "    white_cmap = mcolors.ListedColormap(['white'])\n",
    "    sns.heatmap(cohort_size_df, \n",
    "                annot=True, \n",
    "                cbar=False, \n",
    "                fmt='g', \n",
    "                cmap=white_cmap, \n",
    "                ax=ax[0])\n",
    "\n",
    "    fig.tight_layout()"
   ]
  },
  {
   "cell_type": "code",
   "execution_count": null,
   "id": "2b780c38",
   "metadata": {},
   "outputs": [],
   "source": []
  },
  {
   "cell_type": "code",
   "execution_count": null,
   "id": "536592ad",
   "metadata": {},
   "outputs": [],
   "source": []
  },
  {
   "cell_type": "code",
   "execution_count": null,
   "id": "7e100a8f",
   "metadata": {},
   "outputs": [],
   "source": []
  },
  {
   "cell_type": "code",
   "execution_count": null,
   "id": "4d36f553",
   "metadata": {},
   "outputs": [],
   "source": []
  },
  {
   "cell_type": "code",
   "execution_count": null,
   "id": "a30f8613",
   "metadata": {},
   "outputs": [],
   "source": []
  },
  {
   "cell_type": "code",
   "execution_count": null,
   "id": "e137f927",
   "metadata": {},
   "outputs": [],
   "source": []
  }
 ],
 "metadata": {
  "kernelspec": {
   "display_name": "Python 3 (ipykernel)",
   "language": "python",
   "name": "python3"
  },
  "language_info": {
   "codemirror_mode": {
    "name": "ipython",
    "version": 3
   },
   "file_extension": ".py",
   "mimetype": "text/x-python",
   "name": "python",
   "nbconvert_exporter": "python",
   "pygments_lexer": "ipython3",
   "version": "3.7.0"
  }
 },
 "nbformat": 4,
 "nbformat_minor": 5
}
